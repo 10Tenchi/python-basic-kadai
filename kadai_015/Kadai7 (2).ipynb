{
  "nbformat": 4,
  "nbformat_minor": 0,
  "metadata": {
    "colab": {
      "provenance": []
    },
    "kernelspec": {
      "name": "python3",
      "display_name": "Python 3"
    },
    "language_info": {
      "name": "python"
    }
  },
  "cells": [
    {
      "cell_type": "code",
      "execution_count": 5,
      "metadata": {
        "colab": {
          "base_uri": "https://localhost:8080/"
        },
        "id": "3WeBioMluVgk",
        "outputId": "26fcde7c-5c86-4a08-d6a8-cc94e47e41ae"
      },
      "outputs": [
        {
          "output_type": "stream",
          "name": "stdout",
          "text": [
            "Tenchi: 23\n"
          ]
        }
      ],
      "source": [
        "class Human:\n",
        "  def __init__(self):\n",
        "    self.name=\"Tenchi\"\n",
        "    self.age=23\n",
        "  def printinfo(self):\n",
        "    print(self.name+\": \"+str(self.age))\n",
        "calling = Human()\n",
        "calling.printinfo()"
      ]
    }
  ]
}