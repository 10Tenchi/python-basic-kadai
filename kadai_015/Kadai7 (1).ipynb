{
  "nbformat": 4,
  "nbformat_minor": 0,
  "metadata": {
    "colab": {
      "provenance": []
    },
    "kernelspec": {
      "name": "python3",
      "display_name": "Python 3"
    },
    "language_info": {
      "name": "python"
    }
  },
  "cells": [
    {
      "cell_type": "code",
      "execution_count": 4,
      "metadata": {
        "colab": {
          "base_uri": "https://localhost:8080/"
        },
        "id": "3WeBioMluVgk",
        "outputId": "764a988b-83c0-4921-edd3-a168fdf06f5b"
      },
      "outputs": [
        {
          "output_type": "stream",
          "name": "stdout",
          "text": [
            "Tenchi23\n"
          ]
        }
      ],
      "source": [
        "class Human:\n",
        "  def __init__(self):\n",
        "    self.name=\"Tenchi\"\n",
        "    self.age=23\n",
        "  def printinfo(self):\n",
        "    print(self.name+str(self.age))\n",
        "calling = Human()\n",
        "calling.printinfo()"
      ]
    }
  ]
}