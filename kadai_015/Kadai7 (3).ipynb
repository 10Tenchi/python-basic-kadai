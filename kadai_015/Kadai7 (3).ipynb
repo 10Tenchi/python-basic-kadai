{
  "nbformat": 4,
  "nbformat_minor": 0,
  "metadata": {
    "colab": {
      "provenance": []
    },
    "kernelspec": {
      "name": "python3",
      "display_name": "Python 3"
    },
    "language_info": {
      "name": "python"
    }
  },
  "cells": [
    {
      "cell_type": "code",
      "execution_count": 9,
      "metadata": {
        "colab": {
          "base_uri": "https://localhost:8080/"
        },
        "id": "3WeBioMluVgk",
        "outputId": "bd781dd5-7ce9-4b82-c863-2233092d3324"
      },
      "outputs": [
        {
          "output_type": "stream",
          "name": "stdout",
          "text": [
            "Tenchi: 23\n"
          ]
        }
      ],
      "source": [
        "class Human:\n",
        "  def __init__(self, name, age):\n",
        "    self.name=name\n",
        "    self.age=age\n",
        "  def printinfo(self):\n",
        "    print(self.name+\": \"+str(self.age))\n",
        "calling = Human(\"Tenchi\", 23)\n",
        "calling.printinfo()"
      ]
    }
  ]
}