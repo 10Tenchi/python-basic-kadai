{
  "nbformat": 4,
  "nbformat_minor": 0,
  "metadata": {
    "colab": {
      "provenance": []
    },
    "kernelspec": {
      "name": "python3",
      "display_name": "Python 3"
    },
    "language_info": {
      "name": "python"
    }
  },
  "cells": [
    {
      "cell_type": "code",
      "execution_count": 3,
      "metadata": {
        "colab": {
          "base_uri": "https://localhost:8080/"
        },
        "id": "3WeBioMluVgk",
        "outputId": "f5e16487-c7f2-4d43-d20a-522ca2fe9395"
      },
      "outputs": [
        {
          "output_type": "stream",
          "name": "stdout",
          "text": [
            "Tenchi23\n"
          ]
        }
      ],
      "source": [
        "class Human:\n",
        "  def __init__(self):\n",
        "    self.name=\"Tenchi\"\n",
        "    self.age=23\n",
        "  def print_info(self):\n",
        "    return(self.name+str(self.age))\n",
        "calling = Human()\n",
        "print(calling.print_info())"
      ]
    }
  ]
}