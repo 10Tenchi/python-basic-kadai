{
  "nbformat": 4,
  "nbformat_minor": 0,
  "metadata": {
    "colab": {
      "provenance": []
    },
    "kernelspec": {
      "name": "python3",
      "display_name": "Python 3"
    },
    "language_info": {
      "name": "python"
    }
  },
  "cells": [
    {
      "cell_type": "code",
      "execution_count": null,
      "metadata": {
        "id": "HJAUMwZX8Hcs",
        "outputId": "33b837d8-47a0-4648-ec56-07b5fb2a221d",
        "colab": {
          "base_uri": "https://localhost:8080/"
        }
      },
      "outputs": [
        {
          "output_type": "stream",
          "name": "stdout",
          "text": [
            "75.0cm^2\n",
            "75.0\n"
          ]
        }
      ],
      "source": [
        "daikei = (10+20)*5/2\n",
        "print(str(daikei)+\"cm^2\")"
      ]
    }
  ]
}