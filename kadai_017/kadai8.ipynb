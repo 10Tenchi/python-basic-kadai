{
  "nbformat": 4,
  "nbformat_minor": 0,
  "metadata": {
    "colab": {
      "provenance": []
    },
    "kernelspec": {
      "name": "python3",
      "display_name": "Python 3"
    },
    "language_info": {
      "name": "python"
    }
  },
  "cells": [
    {
      "cell_type": "code",
      "source": [
        "class Human:\n",
        "  def __init__(self, name, age):\n",
        "    self.name=name\n",
        "    self.age=age\n",
        "  def check_adult(self):\n",
        "    if self.age>=20:\n",
        "      print(f\"{self.name} is an adult\")\n",
        "    else:\n",
        "      print(f\"{self.name} is not an adult\")\n",
        "Brolist={\"Keiten\": 18, \"Kirua\": 12, \"Anji\": 21}\n",
        "for name, age in Brolist.items():\n",
        "  bro=Human(name, age)\n",
        "  bro.check_adult()"
      ],
      "metadata": {
        "colab": {
          "base_uri": "https://localhost:8080/"
        },
        "id": "lAzKLSLp_FQi",
        "outputId": "9188aa29-3b1f-40dd-ac58-41b416a1682f"
      },
      "execution_count": 3,
      "outputs": [
        {
          "output_type": "stream",
          "name": "stdout",
          "text": [
            "Keiten is not an adult\n",
            "Kirua is not an adult\n",
            "Anji is an adult\n"
          ]
        }
      ]
    }
  ]
}