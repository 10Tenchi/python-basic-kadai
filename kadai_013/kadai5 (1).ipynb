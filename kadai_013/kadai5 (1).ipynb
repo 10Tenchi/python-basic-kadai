{
  "nbformat": 4,
  "nbformat_minor": 0,
  "metadata": {
    "colab": {
      "provenance": []
    },
    "kernelspec": {
      "name": "python3",
      "display_name": "Python 3"
    },
    "language_info": {
      "name": "python"
    }
  },
  "cells": [
    {
      "cell_type": "code",
      "execution_count": 3,
      "metadata": {
        "colab": {
          "base_uri": "https://localhost:8080/"
        },
        "id": "GBKOe6TQXYG4",
        "outputId": "712458fb-2097-4397-f43b-21e5ff7f0a7f"
      },
      "outputs": [
        {
          "output_type": "stream",
          "name": "stdout",
          "text": [
            "121.0\n"
          ]
        }
      ],
      "source": [
        "def tax(price, rate):\n",
        "  total=0\n",
        "  total+=price + (price * rate * 0.01)\n",
        "  return total\n",
        "\n",
        "print(tax(110, 10))"
      ]
    }
  ]
}